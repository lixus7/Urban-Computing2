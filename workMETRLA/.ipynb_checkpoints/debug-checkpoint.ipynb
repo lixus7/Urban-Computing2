{
 "cells": [
  {
   "cell_type": "code",
   "execution_count": 68,
   "metadata": {
    "ExecuteTime": {
     "end_time": "2021-05-29T17:56:37.565034Z",
     "start_time": "2021-05-29T17:56:37.560618Z"
    }
   },
   "outputs": [],
   "source": [
    "import sys\n",
    "import os\n",
    "import shutil\n",
    "import math\n",
    "import numpy as np\n",
    "import pandas as pd\n",
    "import scipy.sparse as ss\n",
    "from sklearn.preprocessing import StandardScaler\n",
    "from datetime import datetime\n",
    "import time\n",
    "import torch\n",
    "import torch.nn as nn\n",
    "import torch.nn.init as init\n",
    "import torch.nn.functional as F\n",
    "from torchsummary import summary\n",
    "import Metrics\n",
    "from STGCN import *\n",
    "from Param import *"
   ]
  },
  {
   "cell_type": "code",
   "execution_count": 69,
   "metadata": {
    "ExecuteTime": {
     "end_time": "2021-05-29T17:56:38.436541Z",
     "start_time": "2021-05-29T17:56:38.163011Z"
    }
   },
   "outputs": [
    {
     "name": "stdout",
     "output_type": "stream",
     "text": [
      "data.shape (34272, 207)\n"
     ]
    }
   ],
   "source": [
    "def getXSYS_single(data, mode,pred = 3):\n",
    "    TRAIN_NUM = int(data.shape[0] * TRAINRATIO)\n",
    "    print('data.shape:',data.shape)\n",
    "    XS, YS = [], []\n",
    "    if mode == 'TRAIN':    \n",
    "        for i in range(TRAIN_NUM - TIMESTEP_OUT - TIMESTEP_IN + 1):\n",
    "            x = data[i:i+TIMESTEP_IN, :]\n",
    "            y = data[i+TIMESTEP_IN+pred-1:i+TIMESTEP_IN+pred, :]\n",
    "            XS.append(x), YS.append(y)\n",
    "        print('getXSYS_single TRAIN:',np.array(XS).shape,np.array(YS).shape)\n",
    "    elif mode == 'TEST':\n",
    "        for i in range(TRAIN_NUM - TIMESTEP_IN,  data.shape[0] - TIMESTEP_OUT - TIMESTEP_IN + 1):\n",
    "            x = data[i:i+TIMESTEP_IN, :]\n",
    "            y = data[i+TIMESTEP_IN+pred-1:i+TIMESTEP_IN+pred, :]\n",
    "            XS.append(x), YS.append(y)\n",
    "    XS, YS = np.array(XS), np.array(YS)\n",
    "    XS, YS = XS[:, np.newaxis, :, :], YS[:, np.newaxis, :]\n",
    "    return XS, YS\n",
    "\n",
    "def getXSYS(data, mode):\n",
    "    TRAIN_NUM = int(data.shape[0] * TRAINRATIO)\n",
    "    XS, YS = [], []\n",
    "    if mode == 'TRAIN':    \n",
    "        for i in range(TRAIN_NUM - TIMESTEP_OUT - TIMESTEP_IN + 1):\n",
    "            x = data[i:i+TIMESTEP_IN, :]\n",
    "            y = data[i+TIMESTEP_IN:i+TIMESTEP_IN+TIMESTEP_OUT, :]\n",
    "            XS.append(x), YS.append(y)\n",
    "    elif mode == 'TEST':\n",
    "        for i in range(TRAIN_NUM - TIMESTEP_IN,  data.shape[0] - TIMESTEP_OUT - TIMESTEP_IN + 1):\n",
    "            x = data[i:i+TIMESTEP_IN, :]\n",
    "            y = data[i+TIMESTEP_IN:i+TIMESTEP_IN+TIMESTEP_OUT, :]\n",
    "            XS.append(x), YS.append(y)\n",
    "    XS, YS = np.array(XS), np.array(YS)\n",
    "    XS, YS = XS[:, np.newaxis, :, :], YS[:, np.newaxis, :]\n",
    "    return XS, YS\n",
    "\n",
    "def getModel(name):\n",
    "    if name == 'STGCN':\n",
    "        ks, kt, bs, T, n, p = 3, 3, [[CHANNEL, 32, 64], [64, 32, 128]], TIMESTEP_IN, N_NODE, 0\n",
    "        A = load_matrix(ADJPATH)\n",
    "        W = weight_matrix(A)\n",
    "        L = scaled_laplacian(W)\n",
    "        Lk = cheb_poly(L, ks)\n",
    "        Lk = torch.Tensor(Lk.astype(np.float32)).to(device)\n",
    "        model = STGCN(ks, kt, bs, T, n, Lk, p).to(device)\n",
    "        return model\n",
    "    else:\n",
    "        return None\n",
    "    \n",
    "def evaluateModel(model, criterion, data_iter):\n",
    "    model.eval()\n",
    "    l_sum, n = 0.0, 0\n",
    "    with torch.no_grad():\n",
    "        for x, y in data_iter:\n",
    "            y_pred = model(x)\n",
    "            l = criterion(y_pred, y)\n",
    "            l_sum += l.item() * y.shape[0]\n",
    "            n += y.shape[0]\n",
    "        return l_sum / n\n",
    "\n",
    "def predictModel(model, data_iter):\n",
    "    YS_pred = []\n",
    "    model.eval()\n",
    "    with torch.no_grad():\n",
    "        for x, y in data_iter:\n",
    "            YS_pred_batch = model(x)\n",
    "            YS_pred_batch = YS_pred_batch.cpu().numpy()\n",
    "            YS_pred.append(YS_pred_batch)\n",
    "        YS_pred = np.vstack(YS_pred)\n",
    "    return YS_pred\n",
    "\n",
    "def predictModel_multi(model, data_iter):\n",
    "    YS_pred_multi = []\n",
    "    model.eval()\n",
    "    with torch.no_grad():\n",
    "        for x, y in data_iter:\n",
    "            XS_pred_multi_batch, YS_pred_multi_batch = [x], []\n",
    "            for i in range(1):\n",
    "                tmp_torch = torch.cat(XS_pred_multi_batch, axis=2)[:, :, i:, :]\n",
    "                yhat = model(tmp_torch)\n",
    "                XS_pred_multi_batch.append(yhat)\n",
    "                YS_pred_multi_batch.append(yhat)\n",
    "            YS_pred_multi_batch = torch.cat(YS_pred_multi_batch, axis=2).cpu().numpy()\n",
    "            YS_pred_multi.append(YS_pred_multi_batch)\n",
    "        YS_pred_multi = np.vstack(YS_pred_multi)\n",
    "    return YS_pred_multi\n",
    "\n",
    "def trainModel(name, mode, XS, YS):\n",
    "    print('Model Training Started ...', time.ctime())\n",
    "    print('TIMESTEP_IN, TIMESTEP_OUT', TIMESTEP_IN, TIMESTEP_OUT)\n",
    "    model = getModel(name)\n",
    "#     summary(model, (CHANNEL, TIMESTEP_IN, N_NODE), device=\"cuda:{}\".format(GPU))\n",
    "    XS_torch, YS_torch = torch.Tensor(XS).to(device), torch.Tensor(YS).to(device)\n",
    "    trainval_data = torch.utils.data.TensorDataset(XS_torch, YS_torch)\n",
    "    trainval_size = len(trainval_data)\n",
    "    train_size = int(trainval_size * (1-TRAINVALSPLIT))\n",
    "    train_data = torch.utils.data.Subset(trainval_data, list(range(0, train_size)))\n",
    "    val_data = torch.utils.data.Subset(trainval_data, list(range(train_size, trainval_size)))\n",
    "    train_iter = torch.utils.data.DataLoader(train_data, BATCHSIZE, shuffle=True)\n",
    "    val_iter = torch.utils.data.DataLoader(val_data, BATCHSIZE, shuffle=True)\n",
    "    \n",
    "    criterion = nn.MSELoss()\n",
    "    optimizer = torch.optim.Adam(model.parameters(), lr=LEARN)\n",
    "    # scheduler = torch.optim.lr_scheduler.StepLR(optimizer, step_size=5, gamma=0.7)\n",
    "    \n",
    "    min_val_loss = np.inf\n",
    "    wait = 0\n",
    "    for epoch in range(EPOCH):\n",
    "        starttime = datetime.now()     \n",
    "        loss_sum, n = 0.0, 0\n",
    "        model.train()\n",
    "        for x, y in train_iter:\n",
    "            optimizer.zero_grad()\n",
    "            y_pred = model(x)\n",
    "            loss = criterion(y_pred, y)\n",
    "            loss.backward()\n",
    "            optimizer.step()\n",
    "            loss_sum += loss.item() * y.shape[0]\n",
    "            n += y.shape[0]\n",
    "        # scheduler.step()\n",
    "        train_loss = loss_sum / n\n",
    "        val_loss = evaluateModel(model, criterion, val_iter)\n",
    "        if val_loss < min_val_loss:\n",
    "            wait = 0\n",
    "            min_val_loss = val_loss\n",
    "            torch.save(model.state_dict(), PATH + '/' + name + '.pt')\n",
    "        else:\n",
    "            wait += 1\n",
    "            if wait == PATIENCE:\n",
    "                print('Early stopping at epoch: %d' % epoch)\n",
    "                break\n",
    "        endtime = datetime.now()\n",
    "        epoch_time = (endtime - starttime).seconds\n",
    "        print(\"epoch\", epoch, \"time used:\", epoch_time,\" seconds \", \"train loss:\", train_loss, \", validation loss:\", val_loss)\n",
    "    \n",
    "    torch_score = evaluateModel(model, criterion, train_iter)\n",
    "    YS_pred = predictModel(model, torch.utils.data.DataLoader(trainval_data, BATCHSIZE, shuffle=False))\n",
    "    print('YS.shape, YS_pred.shape,', YS.shape, YS_pred.shape)\n",
    "    YS, YS_pred = scaler.inverse_transform(np.squeeze(YS)), scaler.inverse_transform(np.squeeze(YS_pred))\n",
    "    print('YS.shape, YS_pred.shape,', YS.shape, YS_pred.shape)\n",
    "    MSE, RMSE, MAE, MAPE = Metrics.evaluate(YS, YS_pred)\n",
    "    f = open(PATH + '/' + name + '_prediction_scores.txt', 'a')\n",
    "    f.write(\"%s, %s, Torch MSE, %.10e, %.10f\\n\" % (name, mode, torch_score, torch_score))\n",
    "    f.write(\"%s, %s, MSE, RMSE, MAE, MAPE, %.10f, %.10f, %.10f, %.10f\\n\" % (name, mode, MSE, RMSE, MAE, MAPE))\n",
    "    f.close()\n",
    "    print('*' * 40)\n",
    "    print(\"%s, %s, Torch MSE, %.10e, %.10f\\n\" % (name, mode, torch_score, torch_score))\n",
    "    print(\"%s, %s, MSE, RMSE, MAE, MAPE, %.10f, %.10f, %.10f, %.10f\\n\" % (name, mode, MSE, RMSE, MAE, MAPE))\n",
    "    print('Model Training Ended ...', time.ctime())\n",
    "        \n",
    "def testModel(name, mode, XS, YS, YS_multi):\n",
    "    print('Model Testing Started ...', time.ctime())\n",
    "    print('TIMESTEP_IN, TIMESTEP_OUT', TIMESTEP_IN, TIMESTEP_OUT)\n",
    "    XS_torch, YS_torch = torch.Tensor(XS).to(device), torch.Tensor(YS).to(device)\n",
    "    test_data = torch.utils.data.TensorDataset(XS_torch, YS_torch)\n",
    "    test_iter = torch.utils.data.DataLoader(test_data, BATCHSIZE, shuffle=False)\n",
    "    model = getModel(name)\n",
    "    model.load_state_dict(torch.load('STGCN0059.pt'))\n",
    "    criterion = nn.MSELoss()\n",
    "    torch_score = evaluateModel(model, criterion, test_iter)\n",
    "    YS_pred_multi = predictModel_multi(model, test_iter)\n",
    "    print('YS_multi.shape, YS_pred_multi.shape,', YS_multi.shape, YS_pred_multi.shape)\n",
    "    YS_multi, YS_pred_multi = np.squeeze(YS_multi), np.squeeze(YS_pred_multi)\n",
    "    for i in range(YS_multi.shape[1]):\n",
    "        YS_multi[:, i, :] = scaler.inverse_transform(YS_multi[:, i, :])\n",
    "        YS_pred_multi[:, i, :] = scaler.inverse_transform(YS_pred_multi[:, i, :])\n",
    "    print('YS_multi.shape, YS_pred_multi.shape,', YS_multi.shape, YS_pred_multi.shape)\n",
    "    np.save(PATH + '/' + MODELNAME + '_prediction.npy', YS_pred_multi)\n",
    "    np.save(PATH + '/' + MODELNAME + '_groundtruth.npy', YS_multi)\n",
    "    MSE, RMSE, MAE, MAPE = Metrics.evaluate(YS_multi, YS_pred_multi)\n",
    "    print('*' * 40)\n",
    "    print(\"%s, %s, Torch MSE, %.10e, %.10f\\n\" % (name, mode, torch_score, torch_score))\n",
    "    f = open(PATH + '/' + name + '_prediction_scores.txt', 'a')\n",
    "    f.write(\"%s, %s, Torch MSE, %.10e, %.10f\\n\" % (name, mode, torch_score, torch_score))\n",
    "    print(\"all pred steps, %s, %s, MSE, RMSE, MAE, MAPE, %.10f, %.10f, %.10f, %.10f\\n\" % (name, mode, MSE, RMSE, MAE, MAPE))\n",
    "    f.write(\"all pred steps, %s, %s, MSE, RMSE, MAE, MAPE, %.10f, %.10f, %.10f, %.10f\\n\" % (name, mode, MSE, RMSE, MAE, MAPE))\n",
    "    for i in [2, 5, 11]:\n",
    "        MSE, RMSE, MAE, MAPE = Metrics.evaluate(YS_multi[:, i, :], YS_pred_multi[:, i, :])\n",
    "        print(\"%d step, %s, %s, MSE, RMSE, MAE, MAPE, %.10f, %.10f, %.10f, %.10f\\n\" % (i, name, mode, MSE, RMSE, MAE, MAPE))\n",
    "        f.write(\"%d step, %s, %s, MSE, RMSE, MAE, MAPE, %.10f, %.10f, %.10f, %.10f\\n\" % (i, name, mode, MSE, RMSE, MAE, MAPE))\n",
    "    f.close()\n",
    "    print('Model Testing Ended ...', time.ctime())\n",
    "\n",
    "def testModel_single(name, mode, XS, YS, YS_multi):\n",
    "    print('Model Testing Started ...', time.ctime())\n",
    "    print('TIMESTEP_IN, TIMESTEP_OUT', TIMESTEP_IN, TIMESTEP_OUT)\n",
    "    XS_torch, YS_torch = torch.Tensor(XS).to(device), torch.Tensor(YS).to(device)\n",
    "    test_data = torch.utils.data.TensorDataset(XS_torch, YS_torch)\n",
    "    test_iter = torch.utils.data.DataLoader(test_data, BATCHSIZE, shuffle=False)\n",
    "    model = getModel(name)\n",
    "    model.load_state_dict(torch.load(PATH + '/' + name + '.pt'))\n",
    "    criterion = nn.MSELoss()\n",
    "    torch_score = evaluateModel(model, criterion, test_iter)\n",
    "    YS_pred_multi = predictModel_multi(model, test_iter)\n",
    "    print('YS_multi.shape, YS_pred_multi.shape,', YS_multi.shape, YS_pred_multi.shape)\n",
    "    YS_multi = YS_multi[:,:,2,:]\n",
    "    print('YS_multi.shape',YS_multi.shape)\n",
    "    YS_multi, YS_pred_multi = np.squeeze(YS_multi), np.squeeze(YS_pred_multi)\n",
    "    print('YS_multi.shape',YS_multi.shape)\n",
    "    print('YS_pred_multi.shape',YS_pred_multi.shape)\n",
    "\n",
    "    YS_multi = scaler.inverse_transform(YS_multi)\n",
    "    YS_pred_multi= scaler.inverse_transform(YS_pred_multi)\n",
    "    print('YS_multi.shape, YS_pred_multi.shape,', YS_multi.shape, YS_pred_multi.shape)\n",
    "#     np.save(PATH + '/' + MODELNAME + '_prediction.npy', YS_pred_multi)\n",
    "#     np.save(PATH + '/' + MODELNAME + '_groundtruth.npy', YS_multi)\n",
    "    MSE, RMSE, MAE, MAPE = Metrics.evaluate(YS_multi, YS_pred_multi)\n",
    "    print(\"all pred steps, %s, %s, MSE, RMSE, MAE, MAPE, %.10f, %.10f, %.10f, %.10f\\n\" % (name, mode, MSE, RMSE, MAE, MAPE))\n",
    "    print('*' * 40)\n",
    "    print(\"%s, %s, Torch MSE, %.10e, %.10f\\n\" % (name, mode, torch_score, torch_score))\n",
    "################# Parameter Setting #######################\n",
    "MODELNAME = 'STGCN'\n",
    "KEYWORD = 'pred_' + DATANAME + '_' + MODELNAME + '_' + datetime.now().strftime(\"%y%m%d%H%M\")\n",
    "PATH = '../' + KEYWORD\n",
    "torch.manual_seed(100)\n",
    "torch.cuda.manual_seed(100)\n",
    "np.random.seed(100)\n",
    "torch.backends.cudnn.deterministic = True\n",
    "###########################################################\n",
    "param = sys.argv\n",
    "if len(param) == 2:\n",
    "    GPU = param[-1]\n",
    "else:\n",
    "    GPU = '3'\n",
    "device = torch.device(\"cuda:{}\".format(GPU)) if torch.cuda.is_available() else torch.device(\"cpu\")\n",
    "###########################################################\n",
    "\n",
    "data = pd.read_hdf(FLOWPATH).values\n",
    "scaler = StandardScaler()\n",
    "data = scaler.fit_transform(data)\n",
    "print('data.shape', data.shape)\n",
    "\n",
    "\n",
    "\n"
   ]
  },
  {
   "cell_type": "code",
   "execution_count": null,
   "metadata": {
    "ExecuteTime": {
     "start_time": "2021-05-29T17:56:37.948Z"
    }
   },
   "outputs": [
    {
     "name": "stdout",
     "output_type": "stream",
     "text": [
      "pred_METR-LA_STGCN_2105300156 training started Sun May 30 01:56:38 2021\n",
      "data.shape: (34272, 207)\n",
      "getXSYS_single TRAIN: (27394, 12, 207) (27394, 1, 207)\n",
      "TRAIN XS.shape YS,shape (27394, 1, 12, 207) (27394, 1, 1, 207)\n",
      "Model Training Started ... Sun May 30 01:56:39 2021\n",
      "TIMESTEP_IN, TIMESTEP_OUT 12 12\n",
      "epoch 0 time used: 10  seconds  train loss: 0.22393412278540364 , validation loss: 0.18397952934188866\n",
      "epoch 1 time used: 10  seconds  train loss: 0.2041823432585653 , validation loss: 0.18196571318837634\n",
      "epoch 2 time used: 10  seconds  train loss: 0.2016121246847221 , validation loss: 0.18975468710661023\n",
      "epoch 3 time used: 10  seconds  train loss: 0.1991943766754397 , validation loss: 0.18898430635320704\n",
      "epoch 4 time used: 10  seconds  train loss: 0.19772647502402604 , validation loss: 0.1798589640513339\n",
      "epoch 5 time used: 10  seconds  train loss: 0.19554993884710933 , validation loss: 0.17676898304920752\n",
      "epoch 6 time used: 10  seconds  train loss: 0.19342439928522479 , validation loss: 0.18140964937223789\n",
      "epoch 7 time used: 10  seconds  train loss: 0.1926214582864517 , validation loss: 0.17894142487132997\n",
      "epoch 8 time used: 10  seconds  train loss: 0.19195815830168048 , validation loss: 0.17636135121969815\n",
      "epoch 9 time used: 10  seconds  train loss: 0.19110464835927038 , validation loss: 0.18336484535325442\n",
      "epoch 10 time used: 10  seconds  train loss: 0.18927157326579006 , validation loss: 0.18262026778475737\n",
      "epoch 11 time used: 10  seconds  train loss: 0.1871934066485114 , validation loss: 0.1763380277096346\n"
     ]
    }
   ],
   "source": [
    "if not os.path.exists(PATH):\n",
    "    os.makedirs(PATH)\n",
    "currentPython = sys.argv[0]\n",
    "shutil.copy2(currentPython, PATH)\n",
    "shutil.copy2('Param.py', PATH)\n",
    "\n",
    "print(KEYWORD, 'training started', time.ctime())\n",
    "trainXS, trainYS = getXSYS_single(data, 'TRAIN')\n",
    "print('TRAIN XS.shape YS,shape', trainXS.shape, trainYS.shape)\n",
    "trainModel(MODELNAME, 'train', trainXS, trainYS)\n",
    "\n",
    "print(KEYWORD, 'testing started', time.ctime())\n",
    "testXS, testYS = getXSYS_single(data, 'TEST')\n",
    "testXS_multi, testYS_multi = getXSYS(data, 'TEST')\n",
    "print('TEST XS.shape, YS.shape, XS_multi.shape, YS_multi.shape', testXS.shape, testYS.shape, testXS_multi.shape, testYS_multi.shape)\n",
    "testModel_single(MODELNAME, 'test', testXS, testYS, testYS_multi)"
   ]
  },
  {
   "cell_type": "code",
   "execution_count": null,
   "metadata": {
    "ExecuteTime": {
     "start_time": "2021-05-29T17:56:38.851Z"
    }
   },
   "outputs": [],
   "source": [
    "testModel_single(MODELNAME, 'test', testXS, testYS, testYS_multi)"
   ]
  },
  {
   "cell_type": "code",
   "execution_count": 65,
   "metadata": {
    "ExecuteTime": {
     "end_time": "2021-05-29T17:55:24.495922Z",
     "start_time": "2021-05-29T17:55:24.490292Z"
    }
   },
   "outputs": [
    {
     "data": {
      "text/plain": [
       "tensor([[[[-0.1965],\n",
       "          [-1.6454],\n",
       "          [-0.7426],\n",
       "          [ 2.3485],\n",
       "          [ 1.2802],\n",
       "          [ 2.0875],\n",
       "          [-1.5927],\n",
       "          [-1.9700],\n",
       "          [-0.2722],\n",
       "          [ 0.4734],\n",
       "          [ 0.4602],\n",
       "          [ 1.8166]],\n",
       "\n",
       "         [[-1.3433],\n",
       "          [-1.2222],\n",
       "          [-0.5321],\n",
       "          [-0.9385],\n",
       "          [ 0.1408],\n",
       "          [ 2.1009],\n",
       "          [ 0.7719],\n",
       "          [ 1.1660],\n",
       "          [ 0.5606],\n",
       "          [ 0.9305],\n",
       "          [-0.5855],\n",
       "          [ 0.3241]]]])"
      ]
     },
     "execution_count": 65,
     "metadata": {},
     "output_type": "execute_result"
    }
   ],
   "source": [
    "x = torch.randn(1, 2,12,1)\n",
    "x"
   ]
  },
  {
   "cell_type": "code",
   "execution_count": 66,
   "metadata": {
    "ExecuteTime": {
     "end_time": "2021-05-29T17:55:26.702756Z",
     "start_time": "2021-05-29T17:55:26.697515Z"
    }
   },
   "outputs": [
    {
     "data": {
      "text/plain": [
       "tensor([[[-0.7426],\n",
       "         [-0.5321]]])"
      ]
     },
     "execution_count": 66,
     "metadata": {},
     "output_type": "execute_result"
    }
   ],
   "source": [
    "x2 = x[:,:,2,:]\n",
    "x2"
   ]
  },
  {
   "cell_type": "code",
   "execution_count": 67,
   "metadata": {
    "ExecuteTime": {
     "end_time": "2021-05-29T17:55:35.664090Z",
     "start_time": "2021-05-29T17:55:35.660065Z"
    }
   },
   "outputs": [
    {
     "data": {
      "text/plain": [
       "torch.Size([1, 2, 1])"
      ]
     },
     "execution_count": 67,
     "metadata": {},
     "output_type": "execute_result"
    }
   ],
   "source": [
    "x2.shape"
   ]
  },
  {
   "cell_type": "code",
   "execution_count": 16,
   "metadata": {
    "ExecuteTime": {
     "end_time": "2021-05-29T17:10:26.434189Z",
     "start_time": "2021-05-29T17:10:26.429532Z"
    }
   },
   "outputs": [
    {
     "data": {
      "text/plain": [
       "torch.Size([21, 1, 12, 10])"
      ]
     },
     "execution_count": 16,
     "metadata": {},
     "output_type": "execute_result"
    }
   ],
   "source": [
    "x.shape"
   ]
  },
  {
   "cell_type": "code",
   "execution_count": 18,
   "metadata": {
    "ExecuteTime": {
     "end_time": "2021-05-29T17:11:46.153037Z",
     "start_time": "2021-05-29T17:11:46.144731Z"
    }
   },
   "outputs": [
    {
     "name": "stdout",
     "output_type": "stream",
     "text": [
      "0\n",
      "torch.Size([21, 1, 12, 10])\n",
      "1\n",
      "torch.Size([21, 1, 11, 10])\n",
      "2\n",
      "torch.Size([21, 1, 10, 10])\n",
      "3\n",
      "torch.Size([21, 1, 9, 10])\n",
      "4\n",
      "torch.Size([21, 1, 8, 10])\n",
      "5\n",
      "torch.Size([21, 1, 7, 10])\n",
      "6\n",
      "torch.Size([21, 1, 6, 10])\n",
      "7\n",
      "torch.Size([21, 1, 5, 10])\n",
      "8\n",
      "torch.Size([21, 1, 4, 10])\n",
      "9\n",
      "torch.Size([21, 1, 3, 10])\n",
      "10\n",
      "torch.Size([21, 1, 2, 10])\n",
      "11\n",
      "torch.Size([21, 1, 1, 10])\n"
     ]
    }
   ],
   "source": [
    "for i in range(12):\n",
    "    tmp_torch = torch.cat([x], axis=2)[:, :, i:, :]\n",
    "    print(i)\n",
    "    print(tmp_torch.shape)"
   ]
  },
  {
   "cell_type": "code",
   "execution_count": null,
   "metadata": {},
   "outputs": [],
   "source": []
  }
 ],
 "metadata": {
  "kernelspec": {
   "display_name": "torch1.7",
   "language": "python",
   "name": "torch1.7"
  },
  "language_info": {
   "codemirror_mode": {
    "name": "ipython",
    "version": 3
   },
   "file_extension": ".py",
   "mimetype": "text/x-python",
   "name": "python",
   "nbconvert_exporter": "python",
   "pygments_lexer": "ipython3",
   "version": "3.7.7"
  },
  "toc": {
   "base_numbering": 1,
   "nav_menu": {},
   "number_sections": true,
   "sideBar": true,
   "skip_h1_title": false,
   "title_cell": "Table of Contents",
   "title_sidebar": "Contents",
   "toc_cell": false,
   "toc_position": {},
   "toc_section_display": true,
   "toc_window_display": false
  },
  "varInspector": {
   "cols": {
    "lenName": 16,
    "lenType": 16,
    "lenVar": 40
   },
   "kernels_config": {
    "python": {
     "delete_cmd_postfix": "",
     "delete_cmd_prefix": "del ",
     "library": "var_list.py",
     "varRefreshCmd": "print(var_dic_list())"
    },
    "r": {
     "delete_cmd_postfix": ") ",
     "delete_cmd_prefix": "rm(",
     "library": "var_list.r",
     "varRefreshCmd": "cat(var_dic_list()) "
    }
   },
   "types_to_exclude": [
    "module",
    "function",
    "builtin_function_or_method",
    "instance",
    "_Feature"
   ],
   "window_display": false
  }
 },
 "nbformat": 4,
 "nbformat_minor": 4
}
