{
 "cells": [
  {
   "cell_type": "code",
   "execution_count": 1,
   "metadata": {
    "ExecuteTime": {
     "end_time": "2021-05-30T13:36:16.889307Z",
     "start_time": "2021-05-30T13:36:14.887819Z"
    }
   },
   "outputs": [],
   "source": [
    "import math\n",
    "import pandas as pd\n",
    "import matplotlib.pyplot as plt\n",
    "import numpy as np\n",
    "import datetime\n",
    "from chinese_calendar import is_workday, is_holiday\n",
    "import pickle as pk"
   ]
  },
  {
   "cell_type": "code",
   "execution_count": 2,
   "metadata": {
    "ExecuteTime": {
     "end_time": "2021-05-30T13:36:16.919715Z",
     "start_time": "2021-05-30T13:36:16.906370Z"
    }
   },
   "outputs": [],
   "source": [
    "y_truth = np.load('../pred_METR-LA_STGCN_2105301825/STGCN_groundtruth_step3.npy')\n",
    "y_pred = np.load('../pred_METR-LA_STGCN_2105301825/STGCN_prediction_step3.npy')\n"
   ]
  },
  {
   "cell_type": "code",
   "execution_count": 3,
   "metadata": {
    "ExecuteTime": {
     "end_time": "2021-05-30T13:36:16.943986Z",
     "start_time": "2021-05-30T13:36:16.938687Z"
    }
   },
   "outputs": [
    {
     "data": {
      "text/plain": [
       "(6853, 207)"
      ]
     },
     "execution_count": 3,
     "metadata": {},
     "output_type": "execute_result"
    }
   ],
   "source": [
    "y_truth.shape"
   ]
  },
  {
   "cell_type": "code",
   "execution_count": 4,
   "metadata": {
    "ExecuteTime": {
     "end_time": "2021-05-30T13:36:16.963896Z",
     "start_time": "2021-05-30T13:36:16.959614Z"
    }
   },
   "outputs": [
    {
     "data": {
      "text/plain": [
       "array([[62.22222222, 53.88888889, 61.88888889, ..., 63.        ,\n",
       "        65.77777778, 63.88888889],\n",
       "       [62.25      , 54.625     , 68.        , ..., 65.25      ,\n",
       "        64.375     , 63.875     ],\n",
       "       [62.77777778, 65.44444444, 64.44444444, ..., 64.        ,\n",
       "        66.33333333, 65.        ],\n",
       "       ...,\n",
       "       [67.        , 59.66666667, 69.55555556, ..., 63.33333333,\n",
       "        67.44444444, 61.22222222],\n",
       "       [66.75      , 62.25      , 66.        , ..., 63.        ,\n",
       "        67.875     , 63.5       ],\n",
       "       [65.11111111, 66.88888889, 66.77777778, ..., 63.55555556,\n",
       "        68.66666667, 61.77777778]])"
      ]
     },
     "execution_count": 4,
     "metadata": {},
     "output_type": "execute_result"
    }
   ],
   "source": [
    "y_truth"
   ]
  },
  {
   "cell_type": "code",
   "execution_count": 5,
   "metadata": {
    "ExecuteTime": {
     "end_time": "2021-05-30T13:36:17.118851Z",
     "start_time": "2021-05-30T13:36:16.980309Z"
    }
   },
   "outputs": [
    {
     "ename": "AttributeError",
     "evalue": "module 'Metrics' has no attribute 'evaluate'",
     "output_type": "error",
     "traceback": [
      "\u001b[0;31m---------------------------------------------------------------------------\u001b[0m",
      "\u001b[0;31mAttributeError\u001b[0m                            Traceback (most recent call last)",
      "\u001b[0;32m<ipython-input-5-f7fcd67df573>\u001b[0m in \u001b[0;36m<module>\u001b[0;34m\u001b[0m\n\u001b[1;32m      1\u001b[0m \u001b[0;32mimport\u001b[0m \u001b[0mMetrics\u001b[0m\u001b[0;34m\u001b[0m\u001b[0;34m\u001b[0m\u001b[0m\n\u001b[1;32m      2\u001b[0m \u001b[0;34m\u001b[0m\u001b[0m\n\u001b[0;32m----> 3\u001b[0;31m \u001b[0mMSE\u001b[0m\u001b[0;34m,\u001b[0m \u001b[0mRMSE\u001b[0m\u001b[0;34m,\u001b[0m \u001b[0mMAE\u001b[0m\u001b[0;34m,\u001b[0m \u001b[0mMAPE\u001b[0m \u001b[0;34m=\u001b[0m \u001b[0mMetrics\u001b[0m\u001b[0;34m.\u001b[0m\u001b[0mevaluate\u001b[0m\u001b[0;34m(\u001b[0m\u001b[0my_truth\u001b[0m\u001b[0;34m,\u001b[0m \u001b[0my_pred\u001b[0m\u001b[0;34m)\u001b[0m\u001b[0;34m\u001b[0m\u001b[0;34m\u001b[0m\u001b[0m\n\u001b[0m\u001b[1;32m      4\u001b[0m \u001b[0mprint\u001b[0m\u001b[0;34m(\u001b[0m\u001b[0;34m\"%.10f, %.10f, %.10f, %.10f\\n\"\u001b[0m \u001b[0;34m%\u001b[0m \u001b[0;34m(\u001b[0m\u001b[0mMSE\u001b[0m\u001b[0;34m,\u001b[0m \u001b[0mRMSE\u001b[0m\u001b[0;34m,\u001b[0m \u001b[0mMAE\u001b[0m\u001b[0;34m,\u001b[0m \u001b[0mMAPE\u001b[0m\u001b[0;34m)\u001b[0m\u001b[0;34m)\u001b[0m\u001b[0;34m\u001b[0m\u001b[0;34m\u001b[0m\u001b[0m\n",
      "\u001b[0;31mAttributeError\u001b[0m: module 'Metrics' has no attribute 'evaluate'"
     ]
    }
   ],
   "source": [
    "import Metrics\n",
    "\n",
    "MSE, RMSE, MAE, MAPE = Metrics.evaluate(y_truth, y_pred)\n",
    "print(\"%.10f, %.10f, %.10f, %.10f\\n\" % (MSE, RMSE, MAE, MAPE))"
   ]
  },
  {
   "cell_type": "code",
   "execution_count": 6,
   "metadata": {
    "ExecuteTime": {
     "end_time": "2021-05-30T13:36:22.484671Z",
     "start_time": "2021-05-30T13:36:21.670720Z"
    }
   },
   "outputs": [
    {
     "name": "stdout",
     "output_type": "stream",
     "text": [
      "MSE: 53.8672335203\n",
      "RMSE: 7.3394300542\n",
      "MAE: 3.6162489559\n",
      "0.0 0.0\n",
      "MAPE: 901.6905325877 %\n",
      "0.0 0.0\n",
      "53.8672335203, 7.3394300542, 3.6162489559, 9.0169053259\n",
      "\n"
     ]
    }
   ],
   "source": [
    "import Metrics\n",
    "\n",
    "MSE, RMSE, MAE, MAPE = Metrics.evaluate2(y_truth, y_pred)\n",
    "print(\"%.10f, %.10f, %.10f, %.10f\\n\" % (MSE, RMSE, MAE, MAPE))"
   ]
  },
  {
   "cell_type": "code",
   "execution_count": null,
   "metadata": {},
   "outputs": [],
   "source": []
  }
 ],
 "metadata": {
  "kernelspec": {
   "display_name": "torch1.7",
   "language": "python",
   "name": "torch1.7"
  },
  "language_info": {
   "codemirror_mode": {
    "name": "ipython",
    "version": 3
   },
   "file_extension": ".py",
   "mimetype": "text/x-python",
   "name": "python",
   "nbconvert_exporter": "python",
   "pygments_lexer": "ipython3",
   "version": "3.7.7"
  },
  "toc": {
   "base_numbering": 1,
   "nav_menu": {},
   "number_sections": true,
   "sideBar": true,
   "skip_h1_title": false,
   "title_cell": "Table of Contents",
   "title_sidebar": "Contents",
   "toc_cell": false,
   "toc_position": {},
   "toc_section_display": true,
   "toc_window_display": false
  },
  "varInspector": {
   "cols": {
    "lenName": 16,
    "lenType": 16,
    "lenVar": 40
   },
   "kernels_config": {
    "python": {
     "delete_cmd_postfix": "",
     "delete_cmd_prefix": "del ",
     "library": "var_list.py",
     "varRefreshCmd": "print(var_dic_list())"
    },
    "r": {
     "delete_cmd_postfix": ") ",
     "delete_cmd_prefix": "rm(",
     "library": "var_list.r",
     "varRefreshCmd": "cat(var_dic_list()) "
    }
   },
   "types_to_exclude": [
    "module",
    "function",
    "builtin_function_or_method",
    "instance",
    "_Feature"
   ],
   "window_display": false
  }
 },
 "nbformat": 4,
 "nbformat_minor": 4
}
